{
 "cells": [
  {
   "cell_type": "code",
   "execution_count": 1,
   "id": "2cea0d2a-7dfc-437e-88d6-cd3ac0d6afdb",
   "metadata": {},
   "outputs": [],
   "source": [
    "import pandas as pd\n",
    "from sklearn.model_selection import train_test_split\n",
    "from sklearn.linear_model import LogisticRegression\n",
    "from sklearn.preprocessing import LabelEncoder, MinMaxScaler\n",
    "from sklearn.metrics import accuracy_score, precision_score, recall_score, f1_score, confusion_matrix, classification_report\n",
    "import seaborn as sns\n",
    "import matplotlib.pyplot as plt"
   ]
  },
  {
   "cell_type": "code",
   "execution_count": 2,
   "id": "48e7ce9c-3107-4ad8-9505-95d9eb67cf79",
   "metadata": {},
   "outputs": [],
   "source": [
    "df = pd.read_csv('food_items.csv')"
   ]
  },
  {
   "cell_type": "code",
   "execution_count": 3,
   "id": "e2dbd6fe-e44c-442f-8e3d-05fface04f20",
   "metadata": {},
   "outputs": [
    {
     "name": "stdout",
     "output_type": "stream",
     "text": [
      "Dataset Overview:\n",
      "   Calories  Total Fat  Saturated Fat  Monounsaturated Fat  \\\n",
      "0     149.0          0            0.0                  0.0   \n",
      "1     123.0          0            0.0                  0.0   \n",
      "2     150.0          0            0.0                  0.0   \n",
      "3     110.0          0            0.0                  0.0   \n",
      "4     143.0          0            0.0                  0.0   \n",
      "\n",
      "   Polyunsaturated Fat  Trans Fat  Cholesterol  Sodium  Total Carbohydrate  \\\n",
      "0                  0.0        0.0            0     9.0                 9.8   \n",
      "1                  0.0        0.0            0     5.0                 6.6   \n",
      "2                  0.0        0.0            0     4.0                11.4   \n",
      "3                  0.0        0.0            0     6.0                 7.0   \n",
      "4                  0.0        0.0            0     7.0                13.1   \n",
      "\n",
      "   Dietary Fiber  Sugars  Sugar Alcohol  Protein  Vitamin A  Vitamin C  \\\n",
      "0            0.0     0.0              0      1.3          0          0   \n",
      "1            0.0     0.0              0      0.8          0          0   \n",
      "2            0.0     0.0              0      1.3          0          0   \n",
      "3            0.0     0.0              0      0.8          0          0   \n",
      "4            0.0     0.0              0      1.0          0          0   \n",
      "\n",
      "   Calcium  Iron            class  \n",
      "0        0     0  'In Moderation'  \n",
      "1        0     0  'In Moderation'  \n",
      "2        0     0  'In Moderation'  \n",
      "3        0     0  'In Moderation'  \n",
      "4        0     0  'In Moderation'  \n",
      "\n",
      "Dataset Info:\n",
      "<class 'pandas.core.frame.DataFrame'>\n",
      "RangeIndex: 13260 entries, 0 to 13259\n",
      "Data columns (total 18 columns):\n",
      " #   Column               Non-Null Count  Dtype  \n",
      "---  ------               --------------  -----  \n",
      " 0   Calories             13260 non-null  float64\n",
      " 1   Total Fat            13260 non-null  int64  \n",
      " 2   Saturated Fat        13260 non-null  float64\n",
      " 3   Monounsaturated Fat  13260 non-null  float64\n",
      " 4   Polyunsaturated Fat  13260 non-null  float64\n",
      " 5   Trans Fat            13260 non-null  float64\n",
      " 6   Cholesterol          13260 non-null  int64  \n",
      " 7   Sodium               13260 non-null  float64\n",
      " 8   Total Carbohydrate   13260 non-null  float64\n",
      " 9   Dietary Fiber        13260 non-null  float64\n",
      " 10  Sugars               13260 non-null  float64\n",
      " 11  Sugar Alcohol        13260 non-null  int64  \n",
      " 12  Protein              13260 non-null  float64\n",
      " 13  Vitamin A            13260 non-null  int64  \n",
      " 14  Vitamin C            13260 non-null  int64  \n",
      " 15  Calcium              13260 non-null  int64  \n",
      " 16  Iron                 13260 non-null  int64  \n",
      " 17  class                13260 non-null  object \n",
      "dtypes: float64(10), int64(7), object(1)\n",
      "memory usage: 1.8+ MB\n",
      "None\n"
     ]
    }
   ],
   "source": [
    "print(\"Dataset Overview:\")\n",
    "print(df.head())\n",
    "print(\"\\nDataset Info:\")\n",
    "print(df.info())"
   ]
  },
  {
   "cell_type": "code",
   "execution_count": 4,
   "id": "2a947318-c77c-4b72-aa76-cc0290cff40b",
   "metadata": {},
   "outputs": [],
   "source": [
    "x_raw=df.iloc[:,:-1]\n",
    "y_raw=df.iloc[:,-1:]\n",
    "x_raw\n",
    "scaler = MinMaxScaler() \n",
    "X = scaler.fit_transform(x_raw)"
   ]
  },
  {
   "cell_type": "code",
   "execution_count": 5,
   "id": "90da07cd-973c-4324-9cce-573c8ae6180e",
   "metadata": {},
   "outputs": [],
   "source": [
    "label_encoder = LabelEncoder()"
   ]
  },
  {
   "cell_type": "code",
   "execution_count": 6,
   "id": "c54c1ac5-15f9-4056-8957-dac2ed3d5b88",
   "metadata": {},
   "outputs": [],
   "source": [
    "y = label_encoder.fit_transform(y_raw.values.ravel())  \n",
    "\n",
    "X_train, X_test, y_train, y_test = train_test_split(X, y, test_size=0.2, stratify=y, random_state=123)\n",
    "\n",
    "penalty = 'l2'\n",
    "\n",
    "multi_class = 'multinomial'\n",
    "\n",
    "solver = 'lbfgs'"
   ]
  },
  {
   "cell_type": "code",
   "execution_count": 7,
   "id": "959846dd-ad6c-4414-9a53-b59f566687cf",
   "metadata": {},
   "outputs": [],
   "source": [
    "max_iter = 1000\n",
    "\n",
    "l2_model = LogisticRegression(random_state=123, penalty=penalty, multi_class=multi_class, solver=solver, max_iter=max_iter)"
   ]
  },
  {
   "cell_type": "code",
   "execution_count": 9,
   "id": "b6208887-c8e5-4eb7-bfec-b91fc3f2c1e0",
   "metadata": {},
   "outputs": [
    {
     "name": "stderr",
     "output_type": "stream",
     "text": [
      "C:\\Users\\sarav\\anaconda3\\Lib\\site-packages\\sklearn\\linear_model\\_logistic.py:1247: FutureWarning: 'multi_class' was deprecated in version 1.5 and will be removed in 1.7. From then on, it will always use 'multinomial'. Leave it to its default value to avoid this warning.\n",
      "  warnings.warn(\n"
     ]
    }
   ],
   "source": [
    "l2_model.fit(X_train, y_train)\n",
    "y_pred = l2_model.predict(X_test)"
   ]
  },
  {
   "cell_type": "code",
   "execution_count": 10,
   "id": "9e9c114a-d6a9-4a13-a8ea-66ea485fd94d",
   "metadata": {},
   "outputs": [
    {
     "name": "stdout",
     "output_type": "stream",
     "text": [
      "\n",
      "Model Evaluation:\n",
      "Accuracy: 0.7748868778280543\n",
      "\n",
      "Classification Report:\n",
      "              precision    recall  f1-score   support\n",
      "\n",
      "           0       0.73      0.87      0.80      1330\n",
      "           1       0.84      0.73      0.78      1124\n",
      "           2       0.92      0.35      0.51       198\n",
      "\n",
      "    accuracy                           0.77      2652\n",
      "   macro avg       0.83      0.65      0.70      2652\n",
      "weighted avg       0.79      0.77      0.77      2652\n",
      "\n"
     ]
    }
   ],
   "source": [
    "print(\"\\nModel Evaluation:\")\n",
    "print(\"Accuracy:\", accuracy_score(y_test, y_pred))\n",
    "print(\"\\nClassification Report:\")\n",
    "print(classification_report(y_test, y_pred))"
   ]
  },
  {
   "cell_type": "code",
   "execution_count": 11,
   "id": "23946406-d68a-408a-99db-3f0a7d360b57",
   "metadata": {},
   "outputs": [
    {
     "name": "stdout",
     "output_type": "stream",
     "text": [
      "[[1162  162    6]\n",
      " [ 301  823    0]\n",
      " [ 128    0   70]]\n"
     ]
    }
   ],
   "source": [
    "conf_matrix = confusion_matrix(y_test, y_pred)\n",
    "print(conf_matrix)"
   ]
  },
  {
   "cell_type": "code",
   "execution_count": null,
   "id": "fe59852b-b435-4ed5-a802-8cd4cca22b5b",
   "metadata": {},
   "outputs": [],
   "source": []
  }
 ],
 "metadata": {
  "kernelspec": {
   "display_name": "Python 3 (ipykernel)",
   "language": "python",
   "name": "python3"
  },
  "language_info": {
   "codemirror_mode": {
    "name": "ipython",
    "version": 3
   },
   "file_extension": ".py",
   "mimetype": "text/x-python",
   "name": "python",
   "nbconvert_exporter": "python",
   "pygments_lexer": "ipython3",
   "version": "3.12.7"
  }
 },
 "nbformat": 4,
 "nbformat_minor": 5
}
